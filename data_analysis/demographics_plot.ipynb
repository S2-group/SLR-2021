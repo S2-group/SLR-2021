{
 "cells": [
  {
   "cell_type": "code",
   "execution_count": 1,
   "metadata": {},
   "outputs": [],
   "source": [
    "## Import data visualization packages\n",
    "import matplotlib.pyplot as plt\n",
    "import numpy as np\n",
    "%matplotlib inline"
   ]
  },
  {
   "cell_type": "code",
   "execution_count": 17,
   "metadata": {},
   "outputs": [
    {
     "data": {
      "image/png": "[encoded data removed]",
      "text/plain": [
       "<Figure size 432x288 with 1 Axes>"
      ]
     },
     "metadata": {
      "needs_background": "light"
     },
     "output_type": "display_data"
    }
   ],
   "source": [
    "x = [2012,2013,2014,2015,2016,2017,2018,2019,2020,2021]\n",
    "labels=x\n",
    "workshops = [0,1,0,0,0,1,4,1,0,0] \n",
    "journals = [0,0,0,0,0,0,0,5,2,2]\n",
    "conferences = [2,2,1,4,4,7,2,9,11,4]\n",
    "width=0.75\n",
    "fig, ax = plt.subplots()\n",
    "ax.set_xticks(x)\n",
    "\n",
    "# First bar with conferences\n",
    "ax.bar(labels, conferences, width, label='Conference',color=\"gray\")\n",
    "for label, conf in zip(labels, conferences):\n",
    "    height = conf\n",
    "    value = 1\n",
    "    if value > 0:\n",
    "        ax.text(\n",
    "            label, height-0.8, height, ha=\"center\", va=\"bottom\"\n",
    "        )\n",
    "\n",
    "# Second bar with journals\n",
    "ax.bar(labels, journals, width, bottom=conferences,label='Journal',color=\"darkgray\")\n",
    "for label, j, c in zip(labels, journals, conferences):\n",
    "    height = j\n",
    "    if height > 0:\n",
    "        ax.text(\n",
    "            label, c+height-1, height, ha=\"center\", va=\"bottom\"\n",
    "        )\n",
    "\n",
    "# Third bar with workshops\n",
    "ax.bar(labels, workshops, width, bottom=conferences,label='Workshops',color=\"lightgray\")\n",
    "for label, j, c, w in zip(labels, journals, conferences, workshops):\n",
    "    height = w\n",
    "    if height > 0:\n",
    "        ax.text(\n",
    "            label, c+height-0.8, height, ha=\"center\", va=\"bottom\"\n",
    "        )\n",
    "\n",
    "ax.legend()\n",
    "\n",
    "#plt.show()\n",
    "#plt.draw()\n",
    "plt.savefig('figures/demographics.pdf', bbox_inches='tight')"
   ]
  },
  {
   "cell_type": "code",
   "execution_count": null,
   "metadata": {},
   "outputs": [],
   "source": []
  },
  {
   "cell_type": "code",
   "execution_count": null,
   "metadata": {},
   "outputs": [],
   "source": []
  }
 ],
 "metadata": {
  "kernelspec": {
   "display_name": "Python 3",
   "language": "python",
   "name": "python3"
  },
  "language_info": {
   "codemirror_mode": {
    "name": "ipython",
    "version": 3
   },
   "file_extension": ".py",
   "mimetype": "text/x-python",
   "name": "python",
   "nbconvert_exporter": "python",
   "pygments_lexer": "ipython3",
   "version": "3.8.10"
  }
 },
 "nbformat": 4,
 "nbformat_minor": 4
}
